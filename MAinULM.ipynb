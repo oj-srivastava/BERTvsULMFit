{
 "cells": [
  {
   "cell_type": "code",
   "execution_count": null,
   "metadata": {},
   "outputs": [],
   "source": [
    "!pip install fastai"
   ]
  },
  {
   "cell_type": "code",
   "execution_count": null,
   "metadata": {},
   "outputs": [],
   "source": [
    "import fastai\n",
    "import pathlib as pj\n",
    "from fastai import *\n",
    "from fastai.text import * \n",
    "import pandas as pd\n",
    "import numpy as np\n",
    "\n",
    "from functools import partial\n",
    "import io\n",
    "import os\n",
    "\n",
    "\n",
    "location = \".\"\n",
    "src_fol = pj.Path(location)\n",
    "file_train = \"trainset.xlsx\"\n",
    "# Deciding which to load decides the Train size\n",
    "datafile = file_train"
   ]
  },
  {
   "cell_type": "code",
   "execution_count": null,
   "metadata": {},
   "outputs": [],
   "source": [
    "fastai.__version__"
   ]
  },
  {
   "cell_type": "code",
   "execution_count": 216,
   "metadata": {},
   "outputs": [],
   "source": [
    "df_var = pd.read_excel(datafile)"
   ]
  },
  {
   "cell_type": "code",
   "execution_count": 217,
   "metadata": {
    "scrolled": true
   },
   "outputs": [
    {
     "data": {
      "text/plain": [
       "(1649, 2)"
      ]
     },
     "execution_count": 217,
     "metadata": {},
     "output_type": "execute_result"
    }
   ],
   "source": [
    "df_var = pd.read_excel(datafile)\n",
    "df_var.shape"
   ]
  },
  {
   "cell_type": "code",
   "execution_count": 218,
   "metadata": {},
   "outputs": [],
   "source": [
    "file_test = \"testset.xlsx\"\n",
    "datafile_test = file_test"
   ]
  },
  {
   "cell_type": "code",
   "execution_count": 219,
   "metadata": {},
   "outputs": [
    {
     "data": {
      "text/plain": [
       "(575, 2)"
      ]
     },
     "execution_count": 219,
     "metadata": {},
     "output_type": "execute_result"
    }
   ],
   "source": [
    "df_var2 = pd.read_excel(datafile_test)\n",
    "df_var2.shape"
   ]
  },
  {
   "cell_type": "code",
   "execution_count": 220,
   "metadata": {},
   "outputs": [
    {
     "name": "stderr",
     "output_type": "stream",
     "text": [
      "[nltk_data] Downloading package stopwords to\n",
      "[nltk_data]     /home/osrivastava/nltk_data...\n",
      "[nltk_data]   Package stopwords is already up-to-date!\n"
     ]
    }
   ],
   "source": [
    "df = df_var\n",
    "df['text'] = df['text'].str.replace(\"[^a-zA-Z]\", \" \")\n",
    "\n",
    "import nltk\n",
    "nltk.download('stopwords')\n",
    "\n",
    "\n",
    "from nltk.corpus import stopwords \n",
    "stop_words = stopwords.words('english')\n",
    "tokenized_doc = df['text'].apply(lambda x: x.split())\n",
    "\n",
    "\n",
    "# remove stop-words \n",
    "tokenized_doc = tokenized_doc.apply(lambda x: [item for item in x if item not in stop_words])\n",
    "\n",
    "# de-tokenization \n",
    "detokenized_doc = [] \n",
    "for i in range(len(df)): \n",
    "    t = ' '.join(tokenized_doc[i]) \n",
    "    detokenized_doc.append(t) \n",
    "    \n",
    "df['text'] = detokenized_doc   "
   ]
  },
  {
   "cell_type": "code",
   "execution_count": 221,
   "metadata": {},
   "outputs": [
    {
     "data": {
      "text/plain": [
       "682     europe blames us weak dollar european leaders ...\n",
       "1319    hereford doncaster hereford win penalties rove...\n",
       "576     robots learn robotiquette rules robots learnin...\n",
       "1637    china aviation seeks rescue deal scandal hit j...\n",
       "331     cebit fever takes hanover thousands products t...\n",
       "Name: text, dtype: object"
      ]
     },
     "execution_count": 221,
     "metadata": {},
     "output_type": "execute_result"
    }
   ],
   "source": [
    "df_var['text'].sample(5)"
   ]
  },
  {
   "cell_type": "code",
   "execution_count": 222,
   "metadata": {
    "scrolled": true
   },
   "outputs": [
    {
     "data": {
      "text/plain": [
       "((1319, 2), (330, 2))"
      ]
     },
     "execution_count": 222,
     "metadata": {},
     "output_type": "execute_result"
    }
   ],
   "source": [
    "from sklearn.model_selection import train_test_split\n",
    "\n",
    "df_trn, df_val = train_test_split(df, stratify = df['category'], test_size = 0.2, random_state = 12)\n",
    "df_trn.shape, df_val.shape"
   ]
  },
  {
   "cell_type": "code",
   "execution_count": 223,
   "metadata": {
    "scrolled": true
   },
   "outputs": [
    {
     "data": {
      "text/html": [],
      "text/plain": [
       "<IPython.core.display.HTML object>"
      ]
     },
     "metadata": {},
     "output_type": "display_data"
    },
    {
     "data": {
      "text/html": [],
      "text/plain": [
       "<IPython.core.display.HTML object>"
      ]
     },
     "metadata": {},
     "output_type": "display_data"
    },
    {
     "data": {
      "text/html": [],
      "text/plain": [
       "<IPython.core.display.HTML object>"
      ]
     },
     "metadata": {},
     "output_type": "display_data"
    },
    {
     "data": {
      "text/html": [],
      "text/plain": [
       "<IPython.core.display.HTML object>"
      ]
     },
     "metadata": {},
     "output_type": "display_data"
    },
    {
     "data": {
      "text/html": [
       "<table border=\"1\" class=\"dataframe\">\n",
       "  <thead>\n",
       "    <tr style=\"text-align: left;\">\n",
       "      <th>epoch</th>\n",
       "      <th>train_loss</th>\n",
       "      <th>valid_loss</th>\n",
       "      <th>accuracy</th>\n",
       "      <th>time</th>\n",
       "    </tr>\n",
       "  </thead>\n",
       "  <tbody>\n",
       "    <tr>\n",
       "      <td>0</td>\n",
       "      <td>7.915614</td>\n",
       "      <td>6.954702</td>\n",
       "      <td>0.082182</td>\n",
       "      <td>02:54</td>\n",
       "    </tr>\n",
       "    <tr>\n",
       "      <td>1</td>\n",
       "      <td>7.125445</td>\n",
       "      <td>6.545771</td>\n",
       "      <td>0.104884</td>\n",
       "      <td>02:43</td>\n",
       "    </tr>\n",
       "    <tr>\n",
       "      <td>2</td>\n",
       "      <td>6.462763</td>\n",
       "      <td>6.419410</td>\n",
       "      <td>0.112749</td>\n",
       "      <td>03:23</td>\n",
       "    </tr>\n",
       "    <tr>\n",
       "      <td>3</td>\n",
       "      <td>5.957520</td>\n",
       "      <td>6.372787</td>\n",
       "      <td>0.116203</td>\n",
       "      <td>02:47</td>\n",
       "    </tr>\n",
       "    <tr>\n",
       "      <td>4</td>\n",
       "      <td>5.632611</td>\n",
       "      <td>6.366375</td>\n",
       "      <td>0.116833</td>\n",
       "      <td>02:38</td>\n",
       "    </tr>\n",
       "  </tbody>\n",
       "</table>"
      ],
      "text/plain": [
       "<IPython.core.display.HTML object>"
      ]
     },
     "metadata": {},
     "output_type": "display_data"
    }
   ],
   "source": [
    "data_lm = TextLMDataBunch.from_df(train_df = df_trn, valid_df = df_val, path = \"\")\n",
    "data_clas = TextClasDataBunch.from_df(path = \"\", train_df = df_trn, valid_df = df_val, vocab=data_lm.train_ds.vocab, bs=32)\n",
    "learn = language_model_learner(data_lm, AWD_LSTM, drop_mult=0.7)\n",
    "# Deciding LR and Epoch for LM here\n",
    "learn.fit_one_cycle(5, 1e-2, moms=(0.8,0.7), wd=0.1)\n",
    "learn.save_encoder('ft_enc')"
   ]
  },
  {
   "cell_type": "code",
   "execution_count": 224,
   "metadata": {},
   "outputs": [
    {
     "data": {
      "text/html": [
       "\n",
       "    <div>\n",
       "        <style>\n",
       "            /* Turns off some styling */\n",
       "            progress {\n",
       "                /* gets rid of default border in Firefox and Opera. */\n",
       "                border: none;\n",
       "                /* Needs to be in here for Safari polyfill so background images work as expected. */\n",
       "                background-size: auto;\n",
       "            }\n",
       "            .progress-bar-interrupted, .progress-bar-interrupted::-webkit-progress-bar {\n",
       "                background: #F44336;\n",
       "            }\n",
       "        </style>\n",
       "      <progress value='1' class='' max='2', style='width:300px; height:20px; vertical-align: middle;'></progress>\n",
       "      50.00% [1/2 02:43<02:43]\n",
       "    </div>\n",
       "    \n",
       "<table border=\"1\" class=\"dataframe\">\n",
       "  <thead>\n",
       "    <tr style=\"text-align: left;\">\n",
       "      <th>epoch</th>\n",
       "      <th>train_loss</th>\n",
       "      <th>valid_loss</th>\n",
       "      <th>accuracy</th>\n",
       "      <th>time</th>\n",
       "    </tr>\n",
       "  </thead>\n",
       "  <tbody>\n",
       "    <tr>\n",
       "      <td>0</td>\n",
       "      <td>5.482826</td>\n",
       "      <td>#na#</td>\n",
       "      <td>02:43</td>\n",
       "    </tr>\n",
       "  </tbody>\n",
       "</table><p>\n",
       "\n",
       "    <div>\n",
       "        <style>\n",
       "            /* Turns off some styling */\n",
       "            progress {\n",
       "                /* gets rid of default border in Firefox and Opera. */\n",
       "                border: none;\n",
       "                /* Needs to be in here for Safari polyfill so background images work as expected. */\n",
       "                background-size: auto;\n",
       "            }\n",
       "            .progress-bar-interrupted, .progress-bar-interrupted::-webkit-progress-bar {\n",
       "                background: #F44336;\n",
       "            }\n",
       "        </style>\n",
       "      <progress value='31' class='' max='66', style='width:300px; height:20px; vertical-align: middle;'></progress>\n",
       "      46.97% [31/66 01:26<01:37 20.2543]\n",
       "    </div>\n",
       "    "
      ],
      "text/plain": [
       "<IPython.core.display.HTML object>"
      ]
     },
     "metadata": {},
     "output_type": "display_data"
    },
    {
     "name": "stdout",
     "output_type": "stream",
     "text": [
      "LR Finder is complete, type {learner_name}.recorder.plot() to see the graph.\n"
     ]
    }
   ],
   "source": [
    "learn.lr_find()"
   ]
  },
  {
   "cell_type": "code",
   "execution_count": 225,
   "metadata": {},
   "outputs": [
    {
     "data": {
      "image/png": "[encoded data removed]",
      "text/plain": [
       "<Figure size 432x288 with 1 Axes>"
      ]
     },
     "metadata": {
      "needs_background": "light"
     },
     "output_type": "display_data"
    }
   ],
   "source": [
    "learn.recorder.plot()"
   ]
  },
  {
   "cell_type": "code",
   "execution_count": 226,
   "metadata": {},
   "outputs": [
    {
     "data": {
      "text/html": [
       "<table border=\"1\" class=\"dataframe\">\n",
       "  <thead>\n",
       "    <tr style=\"text-align: left;\">\n",
       "      <th>epoch</th>\n",
       "      <th>train_loss</th>\n",
       "      <th>valid_loss</th>\n",
       "      <th>accuracy</th>\n",
       "      <th>time</th>\n",
       "    </tr>\n",
       "  </thead>\n",
       "  <tbody>\n",
       "    <tr>\n",
       "      <td>0</td>\n",
       "      <td>6.136261</td>\n",
       "      <td>7.242483</td>\n",
       "      <td>0.082865</td>\n",
       "      <td>03:13</td>\n",
       "    </tr>\n",
       "    <tr>\n",
       "      <td>1</td>\n",
       "      <td>7.201754</td>\n",
       "      <td>7.566710</td>\n",
       "      <td>0.078480</td>\n",
       "      <td>03:02</td>\n",
       "    </tr>\n",
       "    <tr>\n",
       "      <td>2</td>\n",
       "      <td>7.062068</td>\n",
       "      <td>7.298505</td>\n",
       "      <td>0.091597</td>\n",
       "      <td>03:15</td>\n",
       "    </tr>\n",
       "    <tr>\n",
       "      <td>3</td>\n",
       "      <td>6.419969</td>\n",
       "      <td>7.047030</td>\n",
       "      <td>0.104740</td>\n",
       "      <td>02:36</td>\n",
       "    </tr>\n",
       "    <tr>\n",
       "      <td>4</td>\n",
       "      <td>5.746222</td>\n",
       "      <td>6.978289</td>\n",
       "      <td>0.110570</td>\n",
       "      <td>02:31</td>\n",
       "    </tr>\n",
       "  </tbody>\n",
       "</table>"
      ],
      "text/plain": [
       "<IPython.core.display.HTML object>"
      ]
     },
     "metadata": {},
     "output_type": "display_data"
    },
    {
     "data": {
      "text/html": [],
      "text/plain": [
       "<IPython.core.display.HTML object>"
      ]
     },
     "metadata": {},
     "output_type": "display_data"
    }
   ],
   "source": [
    "#Deciding Max LR here based on the plot above, also the epochs\n",
    "learn.fit_one_cycle(5, 1e-01)\n",
    "# We get the precision for MLM here in form of training accuracy\n",
    "preds, targets = learn.get_preds()"
   ]
  },
  {
   "cell_type": "code",
   "execution_count": 227,
   "metadata": {},
   "outputs": [],
   "source": [
    "predictions = np.argmax(preds, axis = 2)"
   ]
  },
  {
   "cell_type": "code",
   "execution_count": 228,
   "metadata": {},
   "outputs": [
    {
     "data": {
      "text/plain": [
       "tensor(0.8265)"
      ]
     },
     "execution_count": 228,
     "metadata": {},
     "output_type": "execute_result"
    }
   ],
   "source": [
    "#Fbeta for MLM \n",
    "fbeta(predictions, targets, thresh=0.5, sigmoid=False)"
   ]
  },
  {
   "cell_type": "code",
   "execution_count": 229,
   "metadata": {},
   "outputs": [
    {
     "data": {
      "text/plain": [
       "tensor(0.0374)"
      ]
     },
     "execution_count": 229,
     "metadata": {},
     "output_type": "execute_result"
    }
   ],
   "source": [
    "#Accuracy for MLM\n",
    "accuracy_thresh(predictions, targets, thresh=0.65, sigmoid=False)"
   ]
  },
  {
   "cell_type": "code",
   "execution_count": 230,
   "metadata": {},
   "outputs": [
    {
     "data": {
      "text/plain": [
       "RNNLearner(data=TextClasDataBunch;\n",
       "\n",
       "Train: LabelList (1319 items)\n",
       "x: TextList\n",
       "xxbos technology gets personal whipping mobile phone make call xxunk pass phones printed directly wrists parts body says ian pearson bt resident futurologist part known pervasive xxunk world chips everywhere mr pearson crystal ball job xxunk ideas based science technology guide industries future xxunk objects start interact us surrounded streets homes appliances bodies possibly heads things think forget local area networks body area networks ideas smart small even invisible technology get always floating around images devices clumsily xxunk heads wrists xxunk thinking future technology new vision xxunk smart fabrics textiles exploited enhance functionality form aesthetics materials already starting change gadgets electronics used designed mp players mass gadget moment disappear instead become integrated one clothing says mr pearson gadgets fill handbag integrate fabric actually get rid stuff necessarily see electronics wearable technology could exploit body heat charge video tattoos intelligent electronic contact xxunk might function tv screens move however future highly personal devices technology worn even xxunk body raises ethical questions technology going increasingly part clothing jewellery skin needs serious thinking means us humans says baroness susan greenfield recent conference technology engineering academic fashion industry experts royal society london xxunk baroness greenfield cautioned xxunk future yet technology already upon us researchers developed computers xxunk worn clothing mp xxunk based idea xxunk xxunk fabric connect keyboard xxunk xxunk already appeared shops smart fabrics come advances nano micro engineering ability manipulate exploit materials micro xxunk scale nanoscale materials tuned display unusual properties exploited build faster lighter stronger efficient devices systems textile clothing industry one first exploit xxunk quite straightforward ways many developments appearing real products fields medicine defence healthcare sports communications professional xxunk suits reduce drag incorporating tiny structures similar shark skin nanoscale titanium xxunk xxunk coatings give fabrics xxunk anti xxunk properties special properties activated contact air uv light coatings already used stop xxunk smelling instance turn airline seats super stain xxunk xxunk applied windows clean xxunk wounds incorporate xxunk xxunk properties smart patches developed deliver drugs skin baroness greenfield concerned far personal contact technology might affect clothing skin personal body networks talking monitoring everywhere go think means concept privacy mr pearson picks theme pointing lot issues humans iron become xxunk main concern privacy looking electronics really deep contact body lot information really want every xxunk know make sure build security wearing smart make electronics controlling appearance want people hacking writing messages forehead technology xxunk xxunk brains function differently can not xxunk assume human brain change warns baroness greenfield already successful experiments grow human nerve cells circuit boards xxunk way brain xxunk help paralysed people interface directly computers clearly organic carbon bodies silicon increasingly merging xxunk familiar part human part xxunk science fiction academic idea way,xxbos johnson announces june retirement former england captain martin johnson announced retire rugby union end season johnson captained england world cup glory play final match june johnson england caps quit test rugby start two months leading sir clive woodward team victory sydney year old leicester lock final match testimonial twickenham june confident made right decision retire said johnson sure times next season wish playing tigers know time right go feel right time feel physically could play another season playing week week premiership full time occupation want right reasons johnson always xxunk england fans xxunk england dramatic world cup win australia sydney list achievements stop man captain lions twice also led england six nations grand slam johnson also huge success captain leicester guiding tigers back back heineken cup victories several premiership titles apart marvellous captaincy johnson also one finest second rows ever play game xxunk tough physically intimidating ruled xxunk xxunk best part decade integral england rise top world game final appearance testimonial twickenham lead team side captained new zealand winger jonah lomu black aiming return action kidney transplant johnson expects memorable occasion game jonah great way end season end career said johnson lomu rugby union first global superstar exploits world cup said proud part johnson farewell hold high esteem said lomu great leader honoured pitch,xxbos tautou star da vinci film french actress audrey tautou star hit film amelie play female lead film adaptation da vinci code reported movie version dan brown best selling novel directed ron howard also stars tom hanks tautou play hanks code cracking partner according various newspapers currently starring long engagement directed jean pierre jeunet jeunet also responsible directing tautou amelie launched actress mainstream also starred lead role critically acclaimed film dirty pretty things oscar winning director ron howard chose tautou part preferring french actress big name hollywood star uk actress kate xxunk widely tipped possibility role alongside xxunk xxunk juliette xxunk thriller upon movie based sold million copies centred global conspiracy surrounding holy grail mythology louvre museum scene gruesome murder beginning novel recently gave permission filming take place showbusiness newspaper variety reported movie produced columbia sony pictures due release may united states france,xxbos greene sets sights world title maurice greene aims wipe pain losing olympic title athens winning fourth world championship crown summer settle bronze greece behind fellow american justin gatlin francis obikwelu portugal really hurts look medal mistake lost things said greene races birmingham friday never going happen goal going win worlds greene crossed line seconds behind gatlin seconds one closest fastest xxunk time greene believes lost race title semi finals semi final race race xxunk energy francis obikwelu came took third know believe put lane seven final lane seven feel anything race felt like running alone believe middle race would able react people came ahead greene also denied olympic gold x men relay could catch britain mark lewis francis final leg xxunk star set go head head lewis francis friday norwich union grand prix pair contest distance greene currently holds world record seconds another indoor meeting france xxunk training outdoor season task xxunk world title helsinki august greene believes gatlin prove biggest threat ambitions finland also admits faces one rival world crown always someone else coming think coming would say xxunk xxunk young crowd greene said got five six young guys coming time,xxbos brazil plays varig rescue brazilian government played claims could step save country biggest airline brazil airport authority chief carlos wilson claimed government brink stepping save varig brazil flagship airline however country vice president jose alencar said government still looking solution varig struggling huge debt burden estimated debt billion reais bn bn asked whether rescue cards following meeting country congress discuss airline crisis mr alencar replied think see earlier mr wilson said president luiz inacio lula da silva decided step decree kind intervention could signed week practice intervention although technical name used said intervention means government would take administrative control company finances happen varig main shareholder non profit xxunk xxunk foundation represents airline employees would removed mr wilson said however jobs would lost airline would keep flying added varig operates countries apart brazil driven brink collapse country economic downturn depreciation brazil currency direct impact airline dollar debt well costs business improved recently demand air travel increasing recovery brazilian economy airline could also win sizeable windfall compensation claim government tuesday courts awarded varig bn reais ruling favour compensation claim government freezing tariffs government appeal decision\n",
       "y: CategoryList\n",
       "tech,sport,entertainment,sport,business\n",
       "Path: .;\n",
       "\n",
       "Valid: LabelList (330 items)\n",
       "x: TextList\n",
       "xxbos u stars enter rock hall fame singer bruce xxunk xxunk irish rock band u rock roll hall fame new york xxunk ceremony celebrating th anniversary rock n roll also saw induction xxunk percy xxunk xxunk buddy guy band wanted lay claim world next one said xxunk bono edge adam xxunk larry mullen jr formed u school begin world tour march introducing band xxunk xxunk bono man single xxunk xxunk irish xxunk poking fun one best xxunk xxunk complexes rock n roll also spoke group enduring stature adding band last years knew four members names u xxunk xxunk led xxunk xxunk took stage perform city gone xxunk neil young tribute band said xxunk paying tribute james xxunk scott pete xxunk without would said referring premature deaths two band xxunk drug xxunk britain rod stewart introduced percy xxunk citing best known hit man loves woman one best performances ever heard justin timberlake introduced soul group xxunk gospel style quartet xxunk performed xxunk best known songs including back xxunk love train love money anyone ever written produced performed something xxunk stands xxunk giants said timberlake joining ceremony new york xxunk xxunk legendary r b star xxunk xxunk performed eric xxunk robbie robertson xxunk alongside bb king also introduced fellow guitarist buddy guy recalled seeing play teenager england elvis probably like people said course set pilot said xxunk joined guy king performance let love baby also performing ceremony veteran musician jerry lee lewis continued reputation xxunk piano xxunk despite years kicking xxunk sitting piano rendition whole xxunk xxunk xxunk,xxbos optimism remains uk housing uk property market remains robust despite recent slowdown according mortgage lender xxunk xxunk xxunk george xxunk b b said buy let market bank major player would continue grow much faster wider mortgage market comments came reported rise profits xxunk reported rise profits said recent new home reservations better expected recent housing market surveys indicated uk property market cooled recent months several years rapid growth last week figures council mortgage lenders xxunk indicated popularity buy let mortgages key phenomenon housing boom could waning b b share uk buy let mortgage market said rates growth xxunk sector continues grow rate considerably whole mortgage market overall b b said housing market xxunk remain strong interest rates unemployment likely remain historically low levels real household incomes continue grow housing demand likely xxunk supply medium term despite upbeat tone shares b b p morning trade analysts worried future earnings growth xxunk profit figures came top expectations numbers helped buoyant sales us xxunk slight slowdown uk xxunk said uk housing market proved challenging last year late summer market general slowed sharply across country showed real improvement autumn added however first seven weeks year produced promising signs xxunk said visitor levels interest period encouraging reservations stronger end expectations shares xxunk p morning trade,xxbos brits debate urban music joss stone year old soul singer devon beat xxunk xxunk jamelia xxunk streets win best british urban act brit awards victory xxunk debate urban music really comfortable word urban word manufactured country america describe black music word urban seems cover broad range black music wrong far brits removed inner city music people far removed expect get bang music industry xxunk music particular genre well anyway people feel like anything us feel like urban music celebrated joss stone winning nominated brits xxunk urban music scene kick teeth end day really relevant joss stone closest thing feel comfortable xxunk looks like sounds signed got nothing really going urban genre broad look underneath urban number core elements include hip hop r b xxunk obviously comes soul joss stone soul artist first album called soul sessions urban broad xxunk umbrella top sub genres xxunk joss stone amazing success us given uk artist really captured everybody imagination year old devon voice die bunch really really good tunes looks good think done award best british urban act voted viewers mtv base think joss worthy winner makes soul music definitely comes category describe urban fact devon interesting thing music cover made large cities literally rural great thing urban music big range sort xxunk black music dance music britain think call urban new sub category xxunk category come joss stone certainly old enough experiences older soul singer argue xxunk emotions coming somewhere genuine come across real cut point way judge people urban means us organisation politically correct term describe music xxunk black background music become xxunk fighting multi cultural britain fighting inclusion rather exclusion joss stone accepted within urban music community think acts xxunk classical music rock accepted race make difference everyone included awards xxunk yesterday still trying find people races received sort recognition award type music especially street music xxunk city typically reflects xxunk urban life might urban r b become hip hop xxunk thing r b stands rhythm blues remember joss stone rubbish certain anyone deserves win award urban music think probably include hip hop soul xxunk least rock pop year streets although xxunk xxunk stakes good claim definitely deserved win prize joss stone albums quite simply amazing easily better anything else released last year whole debate urban xxunk nt urban completely pointless probably xxunk urban artists nominated win ca nt see people congratulate talent deserve agree comments urban music stupid phrase particularly british states tend use hip hop r b say hip hop lot people idea talking strange name rose name etc people want call urban really analysed term dance music xxunk describe everything dance whilst agree term urban open xxunk strikes simply weird joss stone urban hear played parties inner cities live brixton never heard soul sessions xxunk bass heavy sound system parties good luck joss stone let celebrate victory let also question artists successful talented jamelia xxunk kanye west xxunk xxunk alicia keys outkast see single black artist stage collecting award saying music black heritage allowed sung anyone black acknowledged even pretty dam good amazing voice good oh black well let make feel real bad dare though hang called public vote one idea xxunk whatever popular time different happening relation jazz media called anything swinging beat xxunk xxunk xxunk feeling jazz much xxunk artists would mean blues would put mould xxunk cool xxunk different styles time jazz remains massively misunderstood term urban music truth lazy term xxunk music really understand soul xxunk worlds apart xxunk marvin xxunk v xxunk jam doubt connections let music speak judge success artist number awards maybe enjoy music rather represents demand prize rural music xxunk cities way better xxunk one thing excluding become known urban music would bad excluding xxunk xxunk hendrix rock music black surely xxunk nt understand point xxunk making xxunk makes music less xxunk joss work might said nothing xxunk black urban spent life devon countryside nonsense love joss bits care branding amazing music full stop stop xxunk xxunk let call music let especially drop black urban tag nearly music came black origin sets example ok xxunk people music colour surely point urban music category simply acknowledge artists making historically considered urban music xxunk colour skin xxunk joss stone simply singing certain type music considered urban style someone inner city indeed usa could sing country music person good authentic sound would criticise referred country music artist representing style term urban reference music genre uk developed part controversy surrounding branding mobo awards term music black origin confused offended many people particularly strange given existence asian music awards appears use black white relation music makes people feel uncomfortable term urban therefore xxunk xxunk debate type music came first black white thereby xxunk issue xxunk result redundant new debate urban also means perhaps created new term altogether describe various strains soul xxunk hip hop one also mean something else done xxunk urban word come recently describe black music become popular word even use common use five six years ago way industry xxunk together without call black music people xxunk might call racist band called urban xxunk label hate think belonged neat marketing niche ever since music channels record xxunk tried xxunk consider music black origin labels used undermine status good music commodity look tv broadcasters unable reach young people without xxunk simply play urban music soundtrack dreadful cheap lift music ignore labels music black man think agree statements least statements made key executives black people lead music invented stop calling genre meaningless xxunk meaningless real question would joss stone would successful music black thing streets amy winehouse etc ever heard xxunk walker xxunk xxunk times better joss stone urban music awards think xxunk brits joss stone urban awards music great soul surely urban banner streets would people xxunk mike skinner white seems lot fuss race real issue music nothing else urban pc version saying black music xxunk ms stone talent jamelia xxunk get brit xxunk happened craig david soul ii soul past getting nominations easy get picking brit seems hardest thing refreshing see people making reasonable intelligent comments topic days power people said music like music like cares label put entire category mess people like xxunk xxunk joss stone like putting eminem bob geldof nominated best british r b act joss stone deserved win award talents think urban sing angels robbie williams urban nonsense term music black origin well include rock music made inner cities well almost bands end making music london manchester etc make weird xxunk black people live cities make sense music put genre music like simple play heavy metal band urban music far concerned live cities spend working life urban environment therefore directly xxunk write xxunk urban seems new name styles black music needed xxunk know name xxunk oasis xxunk city xxunk urban life know therefore fit term urban yet white rock band described joss stone fantastic voice great timing delivery reason need award brit urban xxunk red tape music business best ignored yeah deserved talented urban crap meaningless politically correct probably actually racist marketing term though two kinds music good bad,xxbos alicia keys open us super bowl r b star alicia keys open february super bowl singing song previously performed ray charles xxunk carr keys sing america beautiful accompanied students florida school deaf blind charles died last year attended school child keys said excited describing charles artist xxunk miss respect know going touching memorable moment said first performance super bowl watched millions us february sir paul mccartney provide half time entertainment slot filled janet jackson last year organisers promised repeat nipple xxunk incident sparked thousands complaints us tv watched broadcast national football league spokesman said comfortable show would acceptable mass audience game show watched million people us twenty cbs owned tv stations fined country tv regulatory agency complaints made janet jackson wardrobe malfunction sir paul said nothing bigger asked perform super bowl looking forward xxunk millions home stadium,xxbos slow start xxunk net services faster broadband uk becoming reality internet providers offer super fast services lucky britons already take advantage uk online megabits per second service launched november bt retail announced trial speed service national xxunk year end service providers expected follow suit xxunk new voice video services follow bandwidth isps buy said jill finger research director analyst firm xxunk others watching bt retail trials initially employees later summer customers interest bt retail said super fast service could way xxunk players losing market share could one way gaining back said ms finger xxunk set trial mbps service summer also plans roll xxunk services means takes network bt provide speeds mbps timetable moment cable firms ntl telewest also bound increase bandwidth time future according ntl spokesman better position bt long term bt network limited compared cable services coming stream video demand question mbps enough asked\n",
       "y: CategoryList\n",
       "entertainment,business,entertainment,entertainment,tech\n",
       "Path: .;\n",
       "\n",
       "Test: None, model=SequentialRNN(\n",
       "  (0): MultiBatchEncoder(\n",
       "    (module): AWD_LSTM(\n",
       "      (encoder): Embedding(14304, 400, padding_idx=1)\n",
       "      (encoder_dp): EmbeddingDropout(\n",
       "        (emb): Embedding(14304, 400, padding_idx=1)\n",
       "      )\n",
       "      (rnns): ModuleList(\n",
       "        (0): WeightDropout(\n",
       "          (module): LSTM(400, 1152, batch_first=True)\n",
       "        )\n",
       "        (1): WeightDropout(\n",
       "          (module): LSTM(1152, 1152, batch_first=True)\n",
       "        )\n",
       "        (2): WeightDropout(\n",
       "          (module): LSTM(1152, 400, batch_first=True)\n",
       "        )\n",
       "      )\n",
       "      (input_dp): RNNDropout()\n",
       "      (hidden_dps): ModuleList(\n",
       "        (0): RNNDropout()\n",
       "        (1): RNNDropout()\n",
       "        (2): RNNDropout()\n",
       "      )\n",
       "    )\n",
       "  )\n",
       "  (1): PoolingLinearClassifier(\n",
       "    (layers): Sequential(\n",
       "      (0): BatchNorm1d(1200, eps=1e-05, momentum=0.1, affine=True, track_running_stats=True)\n",
       "      (1): Dropout(p=0.27999999999999997, inplace=False)\n",
       "      (2): Linear(in_features=1200, out_features=50, bias=True)\n",
       "      (3): ReLU(inplace=True)\n",
       "      (4): BatchNorm1d(50, eps=1e-05, momentum=0.1, affine=True, track_running_stats=True)\n",
       "      (5): Dropout(p=0.1, inplace=False)\n",
       "      (6): Linear(in_features=50, out_features=5, bias=True)\n",
       "    )\n",
       "  )\n",
       "), opt_func=functools.partial(<class 'torch.optim.adam.Adam'>, betas=(0.9, 0.99)), loss_func=FlattenedLoss of CrossEntropyLoss(), metrics=[<function accuracy at 0x7f07fbb83dd0>], true_wd=True, bn_wd=True, wd=0.01, train_bn=True, path=PosixPath('.'), model_dir='models', callback_fns=[functools.partial(<class 'fastai.basic_train.Recorder'>, add_time=True, silent=False)], callbacks=[RNNTrainer\n",
       "learn: ...\n",
       "alpha: 2.0\n",
       "beta: 1.0], layer_groups=[Sequential(\n",
       "  (0): Embedding(14304, 400, padding_idx=1)\n",
       "  (1): EmbeddingDropout(\n",
       "    (emb): Embedding(14304, 400, padding_idx=1)\n",
       "  )\n",
       "), Sequential(\n",
       "  (0): WeightDropout(\n",
       "    (module): LSTM(400, 1152, batch_first=True)\n",
       "  )\n",
       "  (1): RNNDropout()\n",
       "), Sequential(\n",
       "  (0): WeightDropout(\n",
       "    (module): LSTM(1152, 1152, batch_first=True)\n",
       "  )\n",
       "  (1): RNNDropout()\n",
       "), Sequential(\n",
       "  (0): WeightDropout(\n",
       "    (module): LSTM(1152, 400, batch_first=True)\n",
       "  )\n",
       "  (1): RNNDropout()\n",
       "), Sequential(\n",
       "  (0): PoolingLinearClassifier(\n",
       "    (layers): Sequential(\n",
       "      (0): BatchNorm1d(1200, eps=1e-05, momentum=0.1, affine=True, track_running_stats=True)\n",
       "      (1): Dropout(p=0.27999999999999997, inplace=False)\n",
       "      (2): Linear(in_features=1200, out_features=50, bias=True)\n",
       "      (3): ReLU(inplace=True)\n",
       "      (4): BatchNorm1d(50, eps=1e-05, momentum=0.1, affine=True, track_running_stats=True)\n",
       "      (5): Dropout(p=0.1, inplace=False)\n",
       "      (6): Linear(in_features=50, out_features=5, bias=True)\n",
       "    )\n",
       "  )\n",
       ")], add_time=True, silent=False)"
      ]
     },
     "execution_count": 230,
     "metadata": {},
     "output_type": "execute_result"
    }
   ],
   "source": [
    "#From here text classifier starts\n",
    "learnt = text_classifier_learner(data_clas, arch=AWD_LSTM, drop_mult=0.7)\n",
    "learnt.load_encoder('ft_enc')"
   ]
  },
  {
   "cell_type": "code",
   "execution_count": 231,
   "metadata": {},
   "outputs": [
    {
     "data": {
      "text/html": [
       "\n",
       "    <div>\n",
       "        <style>\n",
       "            /* Turns off some styling */\n",
       "            progress {\n",
       "                /* gets rid of default border in Firefox and Opera. */\n",
       "                border: none;\n",
       "                /* Needs to be in here for Safari polyfill so background images work as expected. */\n",
       "                background-size: auto;\n",
       "            }\n",
       "            .progress-bar-interrupted, .progress-bar-interrupted::-webkit-progress-bar {\n",
       "                background: #F44336;\n",
       "            }\n",
       "        </style>\n",
       "      <progress value='2' class='' max='3', style='width:300px; height:20px; vertical-align: middle;'></progress>\n",
       "      66.67% [2/3 02:07<01:03]\n",
       "    </div>\n",
       "    \n",
       "<table border=\"1\" class=\"dataframe\">\n",
       "  <thead>\n",
       "    <tr style=\"text-align: left;\">\n",
       "      <th>epoch</th>\n",
       "      <th>train_loss</th>\n",
       "      <th>valid_loss</th>\n",
       "      <th>accuracy</th>\n",
       "      <th>time</th>\n",
       "    </tr>\n",
       "  </thead>\n",
       "  <tbody>\n",
       "    <tr>\n",
       "      <td>0</td>\n",
       "      <td>1.656369</td>\n",
       "      <td>#na#</td>\n",
       "      <td>01:01</td>\n",
       "    </tr>\n",
       "    <tr>\n",
       "      <td>1</td>\n",
       "      <td>0.828082</td>\n",
       "      <td>#na#</td>\n",
       "      <td>01:05</td>\n",
       "    </tr>\n",
       "  </tbody>\n",
       "</table><p>\n",
       "\n",
       "    <div>\n",
       "        <style>\n",
       "            /* Turns off some styling */\n",
       "            progress {\n",
       "                /* gets rid of default border in Firefox and Opera. */\n",
       "                border: none;\n",
       "                /* Needs to be in here for Safari polyfill so background images work as expected. */\n",
       "                background-size: auto;\n",
       "            }\n",
       "            .progress-bar-interrupted, .progress-bar-interrupted::-webkit-progress-bar {\n",
       "                background: #F44336;\n",
       "            }\n",
       "        </style>\n",
       "      <progress value='11' class='' max='41', style='width:300px; height:20px; vertical-align: middle;'></progress>\n",
       "      26.83% [11/41 00:30<01:22 1.9661]\n",
       "    </div>\n",
       "    "
      ],
      "text/plain": [
       "<IPython.core.display.HTML object>"
      ]
     },
     "metadata": {},
     "output_type": "display_data"
    },
    {
     "name": "stdout",
     "output_type": "stream",
     "text": [
      "LR Finder is complete, type {learner_name}.recorder.plot() to see the graph.\n"
     ]
    }
   ],
   "source": [
    "learnt.lr_find()"
   ]
  },
  {
   "cell_type": "code",
   "execution_count": 232,
   "metadata": {},
   "outputs": [
    {
     "data": {
      "image/png": "[encoded data removed]",
      "text/plain": [
       "<Figure size 432x288 with 1 Axes>"
      ]
     },
     "metadata": {
      "needs_background": "light"
     },
     "output_type": "display_data"
    }
   ],
   "source": [
    "learnt.recorder.plot()"
   ]
  },
  {
   "cell_type": "code",
   "execution_count": null,
   "metadata": {},
   "outputs": [
    {
     "data": {
      "text/html": [
       "\n",
       "    <div>\n",
       "        <style>\n",
       "            /* Turns off some styling */\n",
       "            progress {\n",
       "                /* gets rid of default border in Firefox and Opera. */\n",
       "                border: none;\n",
       "                /* Needs to be in here for Safari polyfill so background images work as expected. */\n",
       "                background-size: auto;\n",
       "            }\n",
       "            .progress-bar-interrupted, .progress-bar-interrupted::-webkit-progress-bar {\n",
       "                background: #F44336;\n",
       "            }\n",
       "        </style>\n",
       "      <progress value='0' class='' max='1', style='width:300px; height:20px; vertical-align: middle;'></progress>\n",
       "      0.00% [0/1 00:00<00:00]\n",
       "    </div>\n",
       "    \n",
       "<table border=\"1\" class=\"dataframe\">\n",
       "  <thead>\n",
       "    <tr style=\"text-align: left;\">\n",
       "      <th>epoch</th>\n",
       "      <th>train_loss</th>\n",
       "      <th>valid_loss</th>\n",
       "      <th>accuracy</th>\n",
       "      <th>time</th>\n",
       "    </tr>\n",
       "  </thead>\n",
       "  <tbody>\n",
       "  </tbody>\n",
       "</table><p>\n",
       "\n",
       "    <div>\n",
       "        <style>\n",
       "            /* Turns off some styling */\n",
       "            progress {\n",
       "                /* gets rid of default border in Firefox and Opera. */\n",
       "                border: none;\n",
       "                /* Needs to be in here for Safari polyfill so background images work as expected. */\n",
       "                background-size: auto;\n",
       "            }\n",
       "            .progress-bar-interrupted, .progress-bar-interrupted::-webkit-progress-bar {\n",
       "                background: #F44336;\n",
       "            }\n",
       "        </style>\n",
       "      <progress value='0' class='' max='41', style='width:300px; height:20px; vertical-align: middle;'></progress>\n",
       "      0.00% [0/41 00:00<00:00]\n",
       "    </div>\n",
       "    "
      ],
      "text/plain": [
       "<IPython.core.display.HTML object>"
      ]
     },
     "metadata": {},
     "output_type": "display_data"
    }
   ],
   "source": [
    "#This gives accuracy for text classifier\n",
    "learnt.fit_one_cycle(1, 1e-01)"
   ]
  },
  {
   "cell_type": "code",
   "execution_count": null,
   "metadata": {},
   "outputs": [],
   "source": [
    "predst, targetst = learnt.get_preds()"
   ]
  },
  {
   "cell_type": "code",
   "execution_count": null,
   "metadata": {},
   "outputs": [],
   "source": [
    "predictionst = np.argmax(predst, axis = 1)"
   ]
  },
  {
   "cell_type": "code",
   "execution_count": null,
   "metadata": {},
   "outputs": [],
   "source": [
    "pd.crosstab(predictionst, targetst)"
   ]
  },
  {
   "cell_type": "code",
   "execution_count": null,
   "metadata": {},
   "outputs": [],
   "source": [
    "from sklearn.metrics import accuracy_score\n",
    "from sklearn.metrics import precision_score\n",
    "from sklearn.metrics import recall_score\n",
    "from sklearn.metrics import f1_score\n",
    "from sklearn.metrics import roc_auc_score\n",
    "\n",
    "#accuracy = accuracy_score(predictions, targets)\n",
    "#recall = recall_score(predictions, targets, average='macro')\n",
    "#f1 = f1_score(predictions, targets, average='macro')\n",
    "\n",
    "#val = np.sum(np.not_equal(predictions, targets))/float(targets.size)"
   ]
  },
  {
   "cell_type": "code",
   "execution_count": null,
   "metadata": {},
   "outputs": [],
   "source": [
    "predictionst.shape"
   ]
  },
  {
   "cell_type": "code",
   "execution_count": null,
   "metadata": {},
   "outputs": [],
   "source": [
    "targetst.shape"
   ]
  },
  {
   "cell_type": "code",
   "execution_count": null,
   "metadata": {},
   "outputs": [],
   "source": [
    "# AUC_ROC_CURVE for text classifier\n",
    "from fastai import metrics\n",
    "metrics.auc_roc_score(predictionst, targetst)"
   ]
  },
  {
   "cell_type": "code",
   "execution_count": null,
   "metadata": {},
   "outputs": [],
   "source": [
    "metrics.roc_curve(predictionst, targetst)"
   ]
  },
  {
   "cell_type": "code",
   "execution_count": null,
   "metadata": {},
   "outputs": [],
   "source": [
    "curve_x, curve_y = metrics.roc_curve(predictionst, targetst)"
   ]
  },
  {
   "cell_type": "code",
   "execution_count": null,
   "metadata": {},
   "outputs": [],
   "source": [
    "curve_x, curve_y"
   ]
  },
  {
   "cell_type": "code",
   "execution_count": null,
   "metadata": {},
   "outputs": [],
   "source": [
    "x_axis = [0.0000, 0.2370, 0.5259, 0.7370, 0.7444, 1.0000]\n",
    "y_axis = [0.0000, 0.0167, 0.0167, 0.0333, 1.0000, 1.0000]"
   ]
  },
  {
   "cell_type": "code",
   "execution_count": null,
   "metadata": {},
   "outputs": [],
   "source": [
    "import matplotlib.pyplot as plt \n",
    "import pandas as pd \n",
    "import numpy as np"
   ]
  },
  {
   "cell_type": "code",
   "execution_count": null,
   "metadata": {},
   "outputs": [],
   "source": [
    "df = pd.DataFrame(x_axis, y_axis)"
   ]
  },
  {
   "cell_type": "code",
   "execution_count": null,
   "metadata": {},
   "outputs": [],
   "source": [
    "plt.figure() \n",
    "df.plot() \n",
    "plt.show()"
   ]
  },
  {
   "cell_type": "code",
   "execution_count": null,
   "metadata": {},
   "outputs": [],
   "source": []
  },
  {
   "cell_type": "code",
   "execution_count": null,
   "metadata": {},
   "outputs": [],
   "source": [
    "#Accuracy for text classifer\n",
    "accuracyt = accuracy_score(predictionst, targetst)"
   ]
  },
  {
   "cell_type": "code",
   "execution_count": null,
   "metadata": {},
   "outputs": [],
   "source": [
    "accuracyt"
   ]
  },
  {
   "cell_type": "code",
   "execution_count": null,
   "metadata": {},
   "outputs": [],
   "source": [
    "precisiont = precision_score(predictionst, targetst, average='macro')"
   ]
  },
  {
   "cell_type": "code",
   "execution_count": null,
   "metadata": {},
   "outputs": [],
   "source": [
    "#Precision for text classifier\n",
    "precisiont"
   ]
  },
  {
   "cell_type": "code",
   "execution_count": null,
   "metadata": {},
   "outputs": [],
   "source": [
    "recallt = recall_score(predictionst, targetst, average='macro')\n",
    "#Recall for text classifer\n",
    "recallt"
   ]
  },
  {
   "cell_type": "code",
   "execution_count": null,
   "metadata": {},
   "outputs": [],
   "source": [
    "#F1 for text classifier\n",
    "f1t = f1_score(predictionst, targetst, average='macro')\n",
    "print('F1 score: %f' % f1t)"
   ]
  },
  {
   "cell_type": "code",
   "execution_count": null,
   "metadata": {},
   "outputs": [],
   "source": []
  },
  {
   "cell_type": "code",
   "execution_count": null,
   "metadata": {},
   "outputs": [],
   "source": []
  },
  {
   "cell_type": "code",
   "execution_count": null,
   "metadata": {},
   "outputs": [],
   "source": []
  },
  {
   "cell_type": "code",
   "execution_count": null,
   "metadata": {},
   "outputs": [],
   "source": []
  }
 ],
 "metadata": {
  "kernelspec": {
   "display_name": "Python 3",
   "language": "python",
   "name": "python3"
  },
  "language_info": {
   "codemirror_mode": {
    "name": "ipython",
    "version": 3
   },
   "file_extension": ".py",
   "mimetype": "text/x-python",
   "name": "python",
   "nbconvert_exporter": "python",
   "pygments_lexer": "ipython3",
   "version": "3.7.4"
  }
 },
 "nbformat": 4,
 "nbformat_minor": 2
}
